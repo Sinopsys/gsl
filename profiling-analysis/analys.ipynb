{
 "cells": [
  {
   "cell_type": "code",
   "execution_count": 1,
   "metadata": {},
   "outputs": [],
   "source": [
    "import numpy as np\n",
    "import pandas as pd\n",
    "import matplotlib.pyplot as plt\n",
    "import seaborn as sns"
   ]
  },
  {
   "cell_type": "code",
   "execution_count": 2,
   "metadata": {},
   "outputs": [],
   "source": [
    "df = pd.read_csv('./profiling_results.csv', sep=';')"
   ]
  },
  {
   "cell_type": "code",
   "execution_count": 3,
   "metadata": {},
   "outputs": [
    {
     "data": {
      "text/html": [
       "<div>\n",
       "<style scoped>\n",
       "    .dataframe tbody tr th:only-of-type {\n",
       "        vertical-align: middle;\n",
       "    }\n",
       "\n",
       "    .dataframe tbody tr th {\n",
       "        vertical-align: top;\n",
       "    }\n",
       "\n",
       "    .dataframe thead th {\n",
       "        text-align: right;\n",
       "    }\n",
       "</style>\n",
       "<table border=\"1\" class=\"dataframe\">\n",
       "  <thead>\n",
       "    <tr style=\"text-align: right;\">\n",
       "      <th></th>\n",
       "      <th>alg</th>\n",
       "      <th>func</th>\n",
       "      <th>bit</th>\n",
       "      <th>time</th>\n",
       "    </tr>\n",
       "  </thead>\n",
       "  <tbody>\n",
       "    <tr>\n",
       "      <th>0</th>\n",
       "      <td>sha256</td>\n",
       "      <td>Hash value computing</td>\n",
       "      <td>256</td>\n",
       "      <td>0.000031</td>\n",
       "    </tr>\n",
       "    <tr>\n",
       "      <th>1</th>\n",
       "      <td>sha256</td>\n",
       "      <td>Hash value computing</td>\n",
       "      <td>256</td>\n",
       "      <td>0.000019</td>\n",
       "    </tr>\n",
       "    <tr>\n",
       "      <th>2</th>\n",
       "      <td>sha256</td>\n",
       "      <td>Hash value computing</td>\n",
       "      <td>256</td>\n",
       "      <td>0.000033</td>\n",
       "    </tr>\n",
       "    <tr>\n",
       "      <th>3</th>\n",
       "      <td>sha256</td>\n",
       "      <td>Hash value computing</td>\n",
       "      <td>256</td>\n",
       "      <td>0.000023</td>\n",
       "    </tr>\n",
       "    <tr>\n",
       "      <th>4</th>\n",
       "      <td>ecdsa</td>\n",
       "      <td>Key pair generation</td>\n",
       "      <td>256</td>\n",
       "      <td>0.076861</td>\n",
       "    </tr>\n",
       "  </tbody>\n",
       "</table>\n",
       "</div>"
      ],
      "text/plain": [
       "      alg                  func  bit      time\n",
       "0  sha256  Hash value computing  256  0.000031\n",
       "1  sha256  Hash value computing  256  0.000019\n",
       "2  sha256  Hash value computing  256  0.000033\n",
       "3  sha256  Hash value computing  256  0.000023\n",
       "4   ecdsa   Key pair generation  256  0.076861"
      ]
     },
     "execution_count": 3,
     "metadata": {},
     "output_type": "execute_result"
    }
   ],
   "source": [
    "df.head()"
   ]
  },
  {
   "cell_type": "code",
   "execution_count": 4,
   "metadata": {},
   "outputs": [
    {
     "data": {
      "text/plain": [
       "(1689, 4)"
      ]
     },
     "execution_count": 4,
     "metadata": {},
     "output_type": "execute_result"
    }
   ],
   "source": [
    "df.shape"
   ]
  },
  {
   "cell_type": "code",
   "execution_count": 5,
   "metadata": {},
   "outputs": [
    {
     "data": {
      "text/html": [
       "<div>\n",
       "<style scoped>\n",
       "    .dataframe tbody tr th:only-of-type {\n",
       "        vertical-align: middle;\n",
       "    }\n",
       "\n",
       "    .dataframe tbody tr th {\n",
       "        vertical-align: top;\n",
       "    }\n",
       "\n",
       "    .dataframe thead th {\n",
       "        text-align: right;\n",
       "    }\n",
       "</style>\n",
       "<table border=\"1\" class=\"dataframe\">\n",
       "  <thead>\n",
       "    <tr style=\"text-align: right;\">\n",
       "      <th></th>\n",
       "      <th>bit</th>\n",
       "      <th>time</th>\n",
       "    </tr>\n",
       "  </thead>\n",
       "  <tbody>\n",
       "    <tr>\n",
       "      <th>count</th>\n",
       "      <td>1689.000000</td>\n",
       "      <td>1689.000000</td>\n",
       "    </tr>\n",
       "    <tr>\n",
       "      <th>mean</th>\n",
       "      <td>301.622262</td>\n",
       "      <td>3.394908</td>\n",
       "    </tr>\n",
       "    <tr>\n",
       "      <th>std</th>\n",
       "      <td>97.997930</td>\n",
       "      <td>24.967192</td>\n",
       "    </tr>\n",
       "    <tr>\n",
       "      <th>min</th>\n",
       "      <td>256.000000</td>\n",
       "      <td>0.000016</td>\n",
       "    </tr>\n",
       "    <tr>\n",
       "      <th>25%</th>\n",
       "      <td>256.000000</td>\n",
       "      <td>0.000105</td>\n",
       "    </tr>\n",
       "    <tr>\n",
       "      <th>50%</th>\n",
       "      <td>256.000000</td>\n",
       "      <td>0.078314</td>\n",
       "    </tr>\n",
       "    <tr>\n",
       "      <th>75%</th>\n",
       "      <td>256.000000</td>\n",
       "      <td>0.578920</td>\n",
       "    </tr>\n",
       "    <tr>\n",
       "      <th>max</th>\n",
       "      <td>512.000000</td>\n",
       "      <td>435.975189</td>\n",
       "    </tr>\n",
       "  </tbody>\n",
       "</table>\n",
       "</div>"
      ],
      "text/plain": [
       "               bit         time\n",
       "count  1689.000000  1689.000000\n",
       "mean    301.622262     3.394908\n",
       "std      97.997930    24.967192\n",
       "min     256.000000     0.000016\n",
       "25%     256.000000     0.000105\n",
       "50%     256.000000     0.078314\n",
       "75%     256.000000     0.578920\n",
       "max     512.000000   435.975189"
      ]
     },
     "execution_count": 5,
     "metadata": {},
     "output_type": "execute_result"
    }
   ],
   "source": [
    "#total data before dropping\n",
    "df.describe()"
   ]
  },
  {
   "cell_type": "code",
   "execution_count": 6,
   "metadata": {},
   "outputs": [
    {
     "data": {
      "text/plain": [
       "array(['sha256', 'ecdsa', 'gost', 'sha512', 'keccak256', 'scrypt', 'x17',\n",
       "       'ethash', 'x11', 'myr-groestl_hash', 'lyra2re2_hash', 'blake2s',\n",
       "       'blake2b'], dtype=object)"
      ]
     },
     "execution_count": 6,
     "metadata": {},
     "output_type": "execute_result"
    }
   ],
   "source": [
    "df.alg.unique()"
   ]
  },
  {
   "cell_type": "code",
   "execution_count": 7,
   "metadata": {},
   "outputs": [],
   "source": [
    "#let's create a new database with datas of time depends on algorithms\n",
    "columns = df.alg.unique()\n",
    "d = {}\n",
    "for i in range(len(df)):\n",
    "    if df.alg[i] in d:\n",
    "        d[df.alg[i]].append(df.time[i])\n",
    "    else:\n",
    "        d[df.alg[i]]=[]"
   ]
  },
  {
   "cell_type": "code",
   "execution_count": 8,
   "metadata": {},
   "outputs": [
    {
     "name": "stdout",
     "output_type": "stream",
     "text": [
      "565\n",
      "289\n",
      "106\n",
      "99\n",
      "92\n",
      "60\n",
      "98\n",
      "55\n",
      "58\n",
      "83\n",
      "58\n",
      "55\n",
      "58\n"
     ]
    }
   ],
   "source": [
    "for elem in d:\n",
    "    print(len(d[elem]))"
   ]
  },
  {
   "cell_type": "code",
   "execution_count": 9,
   "metadata": {},
   "outputs": [
    {
     "data": {
      "image/png": "[encoded data removed]",
      "text/plain": [
       "<Figure size 1152x504 with 13 Axes>"
      ]
     },
     "metadata": {
      "needs_background": "light"
     },
     "output_type": "display_data"
    }
   ],
   "source": [
    "#AVE EPAM\n",
    "i=1\n",
    "plt.figure(figsize=(16,7))\n",
    "for elem in df.alg.unique():\n",
    "    plt.subplot(3,5,i)\n",
    "    sns.boxplot(y=d[elem])\n",
    "    plt.title(elem)\n",
    "    i+=1\n",
    "plt.show()"
   ]
  },
  {
   "cell_type": "markdown",
   "metadata": {},
   "source": [
    "Самые глобальные выбросы у алгоритмов sha256, sha512. О чем это говорит - не знаю, какие-то так себе особенности работы алгоритмов на каких-то отличающихся данных. Если удалим выбросы из общего распределения, будет несправедливо по отношению к другим алгоритмам, или норм, я не знаю, как правильно данные препроцессить, остальные ребята так и останутся с выбросами. Лучше удалить их у всех. Как это сделать - не в курсе. Но как бы и ладно, разберемся, времени еще полно, не так ли."
   ]
  },
  {
   "cell_type": "code",
   "execution_count": 10,
   "metadata": {},
   "outputs": [
    {
     "data": {
      "image/png": "[encoded data removed]",
      "text/plain": [
       "<Figure size 2160x216 with 1 Axes>"
      ]
     },
     "metadata": {
      "needs_background": "light"
     },
     "output_type": "display_data"
    }
   ],
   "source": [
    "#only for visualization that all values are concentrated in beginning\n",
    "#AVE EPAM\n",
    "plt.figure(figsize=(30, 3))\n",
    "sns.distplot(df.time, bins=39, kde=False)\n",
    "plt.ylabel('count')\n",
    "plt.show()"
   ]
  },
  {
   "cell_type": "markdown",
   "metadata": {},
   "source": [
    "Короче, что я сделаю, если это важно вообще. Как бы качественная работа тут никому не сдалась, верно, поэтому я просто дропну все данные, у которых время выше 5. Почему? Потому что эта циферка ни к кому в доверительный интервал не попадает. На корявый препроц пойдет. Я б так же сделала, если бы не требовалась тотальная очистка и доскональный EDA."
   ]
  },
  {
   "cell_type": "code",
   "execution_count": 11,
   "metadata": {},
   "outputs": [
    {
     "data": {
      "text/plain": [
       "1575"
      ]
     },
     "execution_count": 11,
     "metadata": {},
     "output_type": "execute_result"
    }
   ],
   "source": [
    "df = df.drop(df[df.time > 5].index)\n",
    "len(df)"
   ]
  },
  {
   "cell_type": "markdown",
   "metadata": {},
   "source": [
    "Со средними получается не распределение, а тупо точка на графике, потому что среднее мы считали для каждого алгоритма+функции, так что я сделала такие графики. Посмотри, что вышло и как это отличается от того, что ты хотел."
   ]
  },
  {
   "cell_type": "code",
   "execution_count": 12,
   "metadata": {},
   "outputs": [
    {
     "data": {
      "image/png": "[encoded data removed]",
      "text/plain": [
       "<Figure size 1080x720 with 26 Axes>"
      ]
     },
     "metadata": {
      "needs_background": "light"
     },
     "output_type": "display_data"
    }
   ],
   "source": [
    "plt.figure(figsize=(15,10))\n",
    "plt.tight_layout()\n",
    "i=1\n",
    "for elem in columns:\n",
    "\n",
    "    x = df[(df.alg==elem) & (df.bit== 512)].func\n",
    "    y = df[(df.alg==elem) & (df.bit== 512)].time\n",
    "    plt.subplot(5,6,i)\n",
    "    plt.hist(y)\n",
    "    i+=1\n",
    "    x = df[(df.alg==elem) & (df.bit== 256)].func\n",
    "    y = df[(df.alg==elem) & (df.bit== 256)].time\n",
    "    plt.subplot(5,6,i)\n",
    "    plt.hist(y)\n",
    "    i+=1\n",
    "plt.show()\n",
    "#у тебя нет разных битов"
   ]
  },
  {
   "cell_type": "code",
   "execution_count": 13,
   "metadata": {},
   "outputs": [
    {
     "data": {
      "text/html": [
       "<div>\n",
       "<style scoped>\n",
       "    .dataframe tbody tr th:only-of-type {\n",
       "        vertical-align: middle;\n",
       "    }\n",
       "\n",
       "    .dataframe tbody tr th {\n",
       "        vertical-align: top;\n",
       "    }\n",
       "\n",
       "    .dataframe thead th {\n",
       "        text-align: right;\n",
       "    }\n",
       "</style>\n",
       "<table border=\"1\" class=\"dataframe\">\n",
       "  <thead>\n",
       "    <tr style=\"text-align: right;\">\n",
       "      <th></th>\n",
       "      <th>alg</th>\n",
       "      <th>func</th>\n",
       "      <th>bit</th>\n",
       "      <th>time</th>\n",
       "    </tr>\n",
       "  </thead>\n",
       "  <tbody>\n",
       "    <tr>\n",
       "      <th>0</th>\n",
       "      <td>sha256</td>\n",
       "      <td>Hash value computing</td>\n",
       "      <td>256</td>\n",
       "      <td>0.000031</td>\n",
       "    </tr>\n",
       "    <tr>\n",
       "      <th>1</th>\n",
       "      <td>sha256</td>\n",
       "      <td>Hash value computing</td>\n",
       "      <td>256</td>\n",
       "      <td>0.000019</td>\n",
       "    </tr>\n",
       "    <tr>\n",
       "      <th>2</th>\n",
       "      <td>sha256</td>\n",
       "      <td>Hash value computing</td>\n",
       "      <td>256</td>\n",
       "      <td>0.000033</td>\n",
       "    </tr>\n",
       "    <tr>\n",
       "      <th>3</th>\n",
       "      <td>sha256</td>\n",
       "      <td>Hash value computing</td>\n",
       "      <td>256</td>\n",
       "      <td>0.000023</td>\n",
       "    </tr>\n",
       "    <tr>\n",
       "      <th>101</th>\n",
       "      <td>sha256</td>\n",
       "      <td>Hash value computing</td>\n",
       "      <td>256</td>\n",
       "      <td>0.000073</td>\n",
       "    </tr>\n",
       "  </tbody>\n",
       "</table>\n",
       "</div>"
      ],
      "text/plain": [
       "        alg                  func  bit      time\n",
       "0    sha256  Hash value computing  256  0.000031\n",
       "1    sha256  Hash value computing  256  0.000019\n",
       "2    sha256  Hash value computing  256  0.000033\n",
       "3    sha256  Hash value computing  256  0.000023\n",
       "101  sha256  Hash value computing  256  0.000073"
      ]
     },
     "execution_count": 13,
     "metadata": {},
     "output_type": "execute_result"
    }
   ],
   "source": [
    "#here we are to drop all ecsda and gost rows first\n",
    "df_1 = df.drop(df[df.alg=='ecdsa'].index, axis=0)\n",
    "df_1 = df_1.drop(df[df.alg=='gost'].index, axis=0)\n",
    "df_1.head()"
   ]
  },
  {
   "cell_type": "code",
   "execution_count": 14,
   "metadata": {},
   "outputs": [
    {
     "data": {
      "text/html": [
       "<div>\n",
       "<style scoped>\n",
       "    .dataframe tbody tr th:only-of-type {\n",
       "        vertical-align: middle;\n",
       "    }\n",
       "\n",
       "    .dataframe tbody tr th {\n",
       "        vertical-align: top;\n",
       "    }\n",
       "\n",
       "    .dataframe thead th {\n",
       "        text-align: right;\n",
       "    }\n",
       "</style>\n",
       "<table border=\"1\" class=\"dataframe\">\n",
       "  <thead>\n",
       "    <tr style=\"text-align: right;\">\n",
       "      <th></th>\n",
       "      <th>alg</th>\n",
       "      <th>func</th>\n",
       "      <th>bit</th>\n",
       "      <th>time</th>\n",
       "    </tr>\n",
       "  </thead>\n",
       "  <tbody>\n",
       "    <tr>\n",
       "      <th>4</th>\n",
       "      <td>ecdsa</td>\n",
       "      <td>Key pair generation</td>\n",
       "      <td>256</td>\n",
       "      <td>0.076861</td>\n",
       "    </tr>\n",
       "    <tr>\n",
       "      <th>5</th>\n",
       "      <td>ecdsa</td>\n",
       "      <td>Key pair generation</td>\n",
       "      <td>256</td>\n",
       "      <td>0.074096</td>\n",
       "    </tr>\n",
       "    <tr>\n",
       "      <th>6</th>\n",
       "      <td>ecdsa</td>\n",
       "      <td>Signing message</td>\n",
       "      <td>256</td>\n",
       "      <td>0.102613</td>\n",
       "    </tr>\n",
       "    <tr>\n",
       "      <th>7</th>\n",
       "      <td>ecdsa</td>\n",
       "      <td>Verifying signature</td>\n",
       "      <td>256</td>\n",
       "      <td>0.083898</td>\n",
       "    </tr>\n",
       "    <tr>\n",
       "      <th>8</th>\n",
       "      <td>ecdsa</td>\n",
       "      <td>Key pair generation</td>\n",
       "      <td>256</td>\n",
       "      <td>0.080067</td>\n",
       "    </tr>\n",
       "  </tbody>\n",
       "</table>\n",
       "</div>"
      ],
      "text/plain": [
       "     alg                 func  bit      time\n",
       "4  ecdsa  Key pair generation  256  0.076861\n",
       "5  ecdsa  Key pair generation  256  0.074096\n",
       "6  ecdsa      Signing message  256  0.102613\n",
       "7  ecdsa  Verifying signature  256  0.083898\n",
       "8  ecdsa  Key pair generation  256  0.080067"
      ]
     },
     "execution_count": 14,
     "metadata": {},
     "output_type": "execute_result"
    }
   ],
   "source": [
    "df_2 = pd.concat([df[(df.alg=='ecdsa')],df[(df.alg=='gost')]],  axis=0)\n",
    "df_2.head()"
   ]
  },
  {
   "cell_type": "code",
   "execution_count": 25,
   "metadata": {},
   "outputs": [
    {
     "data": {
      "image/png": "[encoded data removed]",
      "text/plain": [
       "<Figure size 1440x1800 with 33 Axes>"
      ]
     },
     "metadata": {
      "needs_background": "light"
     },
     "output_type": "display_data"
    }
   ],
   "source": [
    "#then we try to make distribution on three different graphs\n",
    "#idk how to fix this and if this is what u want\n",
    "plt.figure(figsize=(20,25))\n",
    "i=1\n",
    "columns = df_1.alg.unique()\n",
    "functions = df_1.func.unique()\n",
    "for elem in columns:\n",
    "    for elem2 in functions:\n",
    "    \n",
    "        y = df_1[(df_1.alg==elem) & (df_1.func==elem2)].time\n",
    "        plt.subplot(7,5,i)\n",
    "        i+=1\n",
    "        plt.hist(y, bins=7)\n",
    "        plt.title(elem+','+elem2)\n",
    "plt.tight_layout() #не работает\n",
    "plt.show()"
   ]
  },
  {
   "cell_type": "code",
   "execution_count": 24,
   "metadata": {},
   "outputs": [
    {
     "data": {
      "image/png": "[encoded data removed]",
      "text/plain": [
       "<Figure size 720x576 with 6 Axes>"
      ]
     },
     "metadata": {
      "needs_background": "light"
     },
     "output_type": "display_data"
    }
   ],
   "source": [
    "plt.figure(figsize=(10,8))\n",
    "plt.tight_layout() #не работает\n",
    "i=1\n",
    "columns = df_2.alg.unique()\n",
    "functions = df_2.func.unique()\n",
    "for elem in columns:\n",
    "    for elem2 in functions:\n",
    "    \n",
    "        y = df_2[(df_2.alg==elem) & (df_2.func==elem2)].time\n",
    "        plt.subplot(2,3,i)\n",
    "        i+=1\n",
    "        plt.hist(y, bins=7)\n",
    "        plt.title(elem+','+elem2)\n",
    "plt.show()"
   ]
  },
  {
   "cell_type": "code",
   "execution_count": null,
   "metadata": {},
   "outputs": [],
   "source": [
    "df[(df.alg=='sha256') & (df.func==)]"
   ]
  },
  {
   "cell_type": "code",
   "execution_count": null,
   "metadata": {},
   "outputs": [],
   "source": []
  },
  {
   "cell_type": "code",
   "execution_count": 88,
   "metadata": {},
   "outputs": [],
   "source": [
    "#AVE StackOverflow\n",
    "df = df.groupby(['alg', 'func','bit'], as_index=False).mean()"
   ]
  },
  {
   "cell_type": "code",
   "execution_count": 89,
   "metadata": {},
   "outputs": [
    {
     "data": {
      "text/html": [
       "<div>\n",
       "<style scoped>\n",
       "    .dataframe tbody tr th:only-of-type {\n",
       "        vertical-align: middle;\n",
       "    }\n",
       "\n",
       "    .dataframe tbody tr th {\n",
       "        vertical-align: top;\n",
       "    }\n",
       "\n",
       "    .dataframe thead th {\n",
       "        text-align: right;\n",
       "    }\n",
       "</style>\n",
       "<table border=\"1\" class=\"dataframe\">\n",
       "  <thead>\n",
       "    <tr style=\"text-align: right;\">\n",
       "      <th></th>\n",
       "      <th>bit</th>\n",
       "      <th>time</th>\n",
       "    </tr>\n",
       "  </thead>\n",
       "  <tbody>\n",
       "    <tr>\n",
       "      <th>count</th>\n",
       "      <td>39.000000</td>\n",
       "      <td>39.000000</td>\n",
       "    </tr>\n",
       "    <tr>\n",
       "      <th>mean</th>\n",
       "      <td>334.769231</td>\n",
       "      <td>0.517133</td>\n",
       "    </tr>\n",
       "    <tr>\n",
       "      <th>std</th>\n",
       "      <td>119.698406</td>\n",
       "      <td>0.420208</td>\n",
       "    </tr>\n",
       "    <tr>\n",
       "      <th>min</th>\n",
       "      <td>256.000000</td>\n",
       "      <td>0.000025</td>\n",
       "    </tr>\n",
       "    <tr>\n",
       "      <th>25%</th>\n",
       "      <td>256.000000</td>\n",
       "      <td>0.022450</td>\n",
       "    </tr>\n",
       "    <tr>\n",
       "      <th>50%</th>\n",
       "      <td>256.000000</td>\n",
       "      <td>0.710103</td>\n",
       "    </tr>\n",
       "    <tr>\n",
       "      <th>75%</th>\n",
       "      <td>512.000000</td>\n",
       "      <td>0.877157</td>\n",
       "    </tr>\n",
       "    <tr>\n",
       "      <th>max</th>\n",
       "      <td>512.000000</td>\n",
       "      <td>1.297297</td>\n",
       "    </tr>\n",
       "  </tbody>\n",
       "</table>\n",
       "</div>"
      ],
      "text/plain": [
       "              bit       time\n",
       "count   39.000000  39.000000\n",
       "mean   334.769231   0.517133\n",
       "std    119.698406   0.420208\n",
       "min    256.000000   0.000025\n",
       "25%    256.000000   0.022450\n",
       "50%    256.000000   0.710103\n",
       "75%    512.000000   0.877157\n",
       "max    512.000000   1.297297"
      ]
     },
     "execution_count": 89,
     "metadata": {},
     "output_type": "execute_result"
    }
   ],
   "source": [
    "#some data for preprocessing after dropping\n",
    "df.describe()"
   ]
  },
  {
   "cell_type": "markdown",
   "metadata": {},
   "source": [
    "Просто можно посмотреть, насколько от выбросов сместилась оценка и на основе этого решить, что, как бы, выбросы не очень ок, я не знаю, может их и надо анализировать, мол, почему некоторые алгоритмы так долго работают местами, но это ты уж сам порешай."
   ]
  },
  {
   "cell_type": "code",
   "execution_count": 116,
   "metadata": {},
   "outputs": [
    {
     "data": {
      "text/plain": [
       "(39, 4)"
      ]
     },
     "execution_count": 116,
     "metadata": {},
     "output_type": "execute_result"
    }
   ],
   "source": [
    "df.shape"
   ]
  },
  {
   "cell_type": "code",
   "execution_count": 91,
   "metadata": {},
   "outputs": [
    {
     "data": {
      "text/html": [
       "<div>\n",
       "<style scoped>\n",
       "    .dataframe tbody tr th:only-of-type {\n",
       "        vertical-align: middle;\n",
       "    }\n",
       "\n",
       "    .dataframe tbody tr th {\n",
       "        vertical-align: top;\n",
       "    }\n",
       "\n",
       "    .dataframe thead th {\n",
       "        text-align: right;\n",
       "    }\n",
       "</style>\n",
       "<table border=\"1\" class=\"dataframe\">\n",
       "  <thead>\n",
       "    <tr style=\"text-align: right;\">\n",
       "      <th></th>\n",
       "      <th>alg</th>\n",
       "      <th>func</th>\n",
       "      <th>bit</th>\n",
       "      <th>time</th>\n",
       "    </tr>\n",
       "  </thead>\n",
       "  <tbody>\n",
       "    <tr>\n",
       "      <th>0</th>\n",
       "      <td>blake2b</td>\n",
       "      <td>Hash value computing</td>\n",
       "      <td>256</td>\n",
       "      <td>0.000228</td>\n",
       "    </tr>\n",
       "    <tr>\n",
       "      <th>1</th>\n",
       "      <td>blake2b</td>\n",
       "      <td>Mining one block</td>\n",
       "      <td>256</td>\n",
       "      <td>0.890395</td>\n",
       "    </tr>\n",
       "    <tr>\n",
       "      <th>2</th>\n",
       "      <td>blake2b</td>\n",
       "      <td>Proof of Work</td>\n",
       "      <td>256</td>\n",
       "      <td>0.883545</td>\n",
       "    </tr>\n",
       "    <tr>\n",
       "      <th>3</th>\n",
       "      <td>blake2s</td>\n",
       "      <td>Hash value computing</td>\n",
       "      <td>256</td>\n",
       "      <td>0.000208</td>\n",
       "    </tr>\n",
       "    <tr>\n",
       "      <th>4</th>\n",
       "      <td>blake2s</td>\n",
       "      <td>Mining one block</td>\n",
       "      <td>256</td>\n",
       "      <td>0.893070</td>\n",
       "    </tr>\n",
       "  </tbody>\n",
       "</table>\n",
       "</div>"
      ],
      "text/plain": [
       "       alg                  func  bit      time\n",
       "0  blake2b  Hash value computing  256  0.000228\n",
       "1  blake2b      Mining one block  256  0.890395\n",
       "2  blake2b         Proof of Work  256  0.883545\n",
       "3  blake2s  Hash value computing  256  0.000208\n",
       "4  blake2s      Mining one block  256  0.893070"
      ]
     },
     "execution_count": 91,
     "metadata": {},
     "output_type": "execute_result"
    }
   ],
   "source": [
    "df = df.reset_index()\n",
    "df.drop('index', axis=1, inplace=True)\n",
    "df.head()"
   ]
  },
  {
   "cell_type": "code",
   "execution_count": 92,
   "metadata": {},
   "outputs": [
    {
     "data": {
      "text/plain": [
       "array([[<matplotlib.axes._subplots.AxesSubplot object at 0x118656780>,\n",
       "        <matplotlib.axes._subplots.AxesSubplot object at 0x118d6c7f0>]],\n",
       "      dtype=object)"
      ]
     },
     "execution_count": 92,
     "metadata": {},
     "output_type": "execute_result"
    },
    {
     "data": {
      "image/png": "[encoded data removed]",
      "text/plain": [
       "<matplotlib.figure.Figure at 0x118bf1748>"
      ]
     },
     "metadata": {},
     "output_type": "display_data"
    }
   ],
   "source": [
    "#lilbitmorebeautiful\n",
    "df.hist()"
   ]
  },
  {
   "cell_type": "markdown",
   "metadata": {},
   "source": [
    "#### В общем хочется норм графики\n",
    "\n",
    "* Для алгоритмов хэширования (это всё что не ecdsa и не gost) посмотреть их время работы в распределении по столбцу func, т.е. для чего они использовались. Что делать со столбцом bit: например [alg=keccak, bit=256] и [alg=keccak, bit=512] считать разными алгоритмами\n",
    "* Для алгоримтов ЦП (это всё что ecdsa или gost) посмотреть то же самое. \n",
    "* Графики можно делать горизонтальными, чтобы длинные подписи умещались примеры кода для горизонтальных графиков: \n",
    "\n",
    "https://github.com/Sinopsys/Data-Mining-Personal-Project-Hearthstone-Cards/blob/master/Hearthstone%20cards.ipynb\n",
    "\n",
    "https://github.com/Sinopsys/IDAHSE-2017/blob/master/Assignment_1/Assignment_1/Assignment_1_Kupriyanov_IAD_1.ipynb\n",
    "* Пример как в plt.subplot разложить много графиков в пару строк циклом:\n",
    "\n",
    "https://github.com/Sinopsys/IDAHSE-2017/blob/master/Assignment_4/A4_Kupriyanov.ipynb"
   ]
  },
  {
   "cell_type": "code",
   "execution_count": 101,
   "metadata": {},
   "outputs": [
    {
     "data": {
      "text/plain": [
       "2"
      ]
     },
     "execution_count": 101,
     "metadata": {},
     "output_type": "execute_result"
    }
   ],
   "source": [
    "df.bit.nunique()"
   ]
  },
  {
   "cell_type": "code",
   "execution_count": 114,
   "metadata": {},
   "outputs": [
    {
     "data": {
      "text/html": [
       "<div>\n",
       "<style scoped>\n",
       "    .dataframe tbody tr th:only-of-type {\n",
       "        vertical-align: middle;\n",
       "    }\n",
       "\n",
       "    .dataframe tbody tr th {\n",
       "        vertical-align: top;\n",
       "    }\n",
       "\n",
       "    .dataframe thead th {\n",
       "        text-align: right;\n",
       "    }\n",
       "</style>\n",
       "<table border=\"1\" class=\"dataframe\">\n",
       "  <thead>\n",
       "    <tr style=\"text-align: right;\">\n",
       "      <th></th>\n",
       "      <th>alg</th>\n",
       "      <th>func</th>\n",
       "      <th>bit</th>\n",
       "      <th>time</th>\n",
       "    </tr>\n",
       "  </thead>\n",
       "  <tbody>\n",
       "    <tr>\n",
       "      <th>0</th>\n",
       "      <td>blake2b</td>\n",
       "      <td>Hash value computing</td>\n",
       "      <td>256</td>\n",
       "      <td>0.000228</td>\n",
       "    </tr>\n",
       "    <tr>\n",
       "      <th>1</th>\n",
       "      <td>blake2b</td>\n",
       "      <td>Mining one block</td>\n",
       "      <td>256</td>\n",
       "      <td>0.890395</td>\n",
       "    </tr>\n",
       "    <tr>\n",
       "      <th>2</th>\n",
       "      <td>blake2b</td>\n",
       "      <td>Proof of Work</td>\n",
       "      <td>256</td>\n",
       "      <td>0.883545</td>\n",
       "    </tr>\n",
       "    <tr>\n",
       "      <th>3</th>\n",
       "      <td>blake2s</td>\n",
       "      <td>Hash value computing</td>\n",
       "      <td>256</td>\n",
       "      <td>0.000208</td>\n",
       "    </tr>\n",
       "    <tr>\n",
       "      <th>4</th>\n",
       "      <td>blake2s</td>\n",
       "      <td>Mining one block</td>\n",
       "      <td>256</td>\n",
       "      <td>0.893070</td>\n",
       "    </tr>\n",
       "    <tr>\n",
       "      <th>5</th>\n",
       "      <td>blake2s</td>\n",
       "      <td>Proof of Work</td>\n",
       "      <td>256</td>\n",
       "      <td>0.886808</td>\n",
       "    </tr>\n",
       "    <tr>\n",
       "      <th>6</th>\n",
       "      <td>ecdsa</td>\n",
       "      <td>Key pair generation</td>\n",
       "      <td>256</td>\n",
       "      <td>0.076300</td>\n",
       "    </tr>\n",
       "    <tr>\n",
       "      <th>7</th>\n",
       "      <td>ecdsa</td>\n",
       "      <td>Signing message</td>\n",
       "      <td>256</td>\n",
       "      <td>0.104522</td>\n",
       "    </tr>\n",
       "    <tr>\n",
       "      <th>8</th>\n",
       "      <td>ecdsa</td>\n",
       "      <td>Verifying signature</td>\n",
       "      <td>256</td>\n",
       "      <td>0.078622</td>\n",
       "    </tr>\n",
       "    <tr>\n",
       "      <th>9</th>\n",
       "      <td>ethash</td>\n",
       "      <td>Hash value computing</td>\n",
       "      <td>256</td>\n",
       "      <td>0.000036</td>\n",
       "    </tr>\n",
       "    <tr>\n",
       "      <th>10</th>\n",
       "      <td>ethash</td>\n",
       "      <td>Mining one block</td>\n",
       "      <td>256</td>\n",
       "      <td>0.883329</td>\n",
       "    </tr>\n",
       "    <tr>\n",
       "      <th>11</th>\n",
       "      <td>ethash</td>\n",
       "      <td>Proof of Work</td>\n",
       "      <td>256</td>\n",
       "      <td>0.876998</td>\n",
       "    </tr>\n",
       "    <tr>\n",
       "      <th>12</th>\n",
       "      <td>gost</td>\n",
       "      <td>Key pair generation</td>\n",
       "      <td>256</td>\n",
       "      <td>0.042303</td>\n",
       "    </tr>\n",
       "    <tr>\n",
       "      <th>13</th>\n",
       "      <td>gost</td>\n",
       "      <td>Signing message</td>\n",
       "      <td>256</td>\n",
       "      <td>0.089711</td>\n",
       "    </tr>\n",
       "    <tr>\n",
       "      <th>14</th>\n",
       "      <td>gost</td>\n",
       "      <td>Verifying signature</td>\n",
       "      <td>256</td>\n",
       "      <td>0.156463</td>\n",
       "    </tr>\n",
       "    <tr>\n",
       "      <th>15</th>\n",
       "      <td>keccak256</td>\n",
       "      <td>Hash value computing</td>\n",
       "      <td>256</td>\n",
       "      <td>0.002596</td>\n",
       "    </tr>\n",
       "    <tr>\n",
       "      <th>16</th>\n",
       "      <td>keccak256</td>\n",
       "      <td>Mining one block</td>\n",
       "      <td>256</td>\n",
       "      <td>0.884264</td>\n",
       "    </tr>\n",
       "    <tr>\n",
       "      <th>17</th>\n",
       "      <td>keccak256</td>\n",
       "      <td>Proof of Work</td>\n",
       "      <td>256</td>\n",
       "      <td>0.874300</td>\n",
       "    </tr>\n",
       "    <tr>\n",
       "      <th>18</th>\n",
       "      <td>lyra2re2_hash</td>\n",
       "      <td>Hash value computing</td>\n",
       "      <td>512</td>\n",
       "      <td>0.000052</td>\n",
       "    </tr>\n",
       "    <tr>\n",
       "      <th>19</th>\n",
       "      <td>lyra2re2_hash</td>\n",
       "      <td>Mining one block</td>\n",
       "      <td>512</td>\n",
       "      <td>0.877315</td>\n",
       "    </tr>\n",
       "    <tr>\n",
       "      <th>20</th>\n",
       "      <td>lyra2re2_hash</td>\n",
       "      <td>Proof of Work</td>\n",
       "      <td>512</td>\n",
       "      <td>0.870688</td>\n",
       "    </tr>\n",
       "    <tr>\n",
       "      <th>21</th>\n",
       "      <td>myr-groestl_hash</td>\n",
       "      <td>Hash value computing</td>\n",
       "      <td>512</td>\n",
       "      <td>0.000032</td>\n",
       "    </tr>\n",
       "    <tr>\n",
       "      <th>22</th>\n",
       "      <td>myr-groestl_hash</td>\n",
       "      <td>Mining one block</td>\n",
       "      <td>512</td>\n",
       "      <td>0.798004</td>\n",
       "    </tr>\n",
       "    <tr>\n",
       "      <th>23</th>\n",
       "      <td>myr-groestl_hash</td>\n",
       "      <td>Proof of Work</td>\n",
       "      <td>512</td>\n",
       "      <td>0.791176</td>\n",
       "    </tr>\n",
       "    <tr>\n",
       "      <th>24</th>\n",
       "      <td>scrypt</td>\n",
       "      <td>Hash value computing</td>\n",
       "      <td>256</td>\n",
       "      <td>0.586257</td>\n",
       "    </tr>\n",
       "    <tr>\n",
       "      <th>25</th>\n",
       "      <td>scrypt</td>\n",
       "      <td>Mining one block</td>\n",
       "      <td>256</td>\n",
       "      <td>1.297297</td>\n",
       "    </tr>\n",
       "    <tr>\n",
       "      <th>26</th>\n",
       "      <td>scrypt</td>\n",
       "      <td>Proof of Work</td>\n",
       "      <td>256</td>\n",
       "      <td>0.707053</td>\n",
       "    </tr>\n",
       "    <tr>\n",
       "      <th>27</th>\n",
       "      <td>sha256</td>\n",
       "      <td>Hash value computing</td>\n",
       "      <td>256</td>\n",
       "      <td>0.000025</td>\n",
       "    </tr>\n",
       "    <tr>\n",
       "      <th>28</th>\n",
       "      <td>sha256</td>\n",
       "      <td>Mining one block</td>\n",
       "      <td>256</td>\n",
       "      <td>0.891855</td>\n",
       "    </tr>\n",
       "    <tr>\n",
       "      <th>29</th>\n",
       "      <td>sha256</td>\n",
       "      <td>Proof of Work</td>\n",
       "      <td>256</td>\n",
       "      <td>0.878212</td>\n",
       "    </tr>\n",
       "    <tr>\n",
       "      <th>30</th>\n",
       "      <td>sha512</td>\n",
       "      <td>Hash value computing</td>\n",
       "      <td>256</td>\n",
       "      <td>0.000029</td>\n",
       "    </tr>\n",
       "    <tr>\n",
       "      <th>31</th>\n",
       "      <td>sha512</td>\n",
       "      <td>Mining one block</td>\n",
       "      <td>256</td>\n",
       "      <td>0.710103</td>\n",
       "    </tr>\n",
       "    <tr>\n",
       "      <th>32</th>\n",
       "      <td>sha512</td>\n",
       "      <td>Proof of Work</td>\n",
       "      <td>256</td>\n",
       "      <td>0.703776</td>\n",
       "    </tr>\n",
       "    <tr>\n",
       "      <th>33</th>\n",
       "      <td>x11</td>\n",
       "      <td>Hash value computing</td>\n",
       "      <td>512</td>\n",
       "      <td>0.000110</td>\n",
       "    </tr>\n",
       "    <tr>\n",
       "      <th>34</th>\n",
       "      <td>x11</td>\n",
       "      <td>Mining one block</td>\n",
       "      <td>512</td>\n",
       "      <td>0.851738</td>\n",
       "    </tr>\n",
       "    <tr>\n",
       "      <th>35</th>\n",
       "      <td>x11</td>\n",
       "      <td>Proof of Work</td>\n",
       "      <td>512</td>\n",
       "      <td>0.845676</td>\n",
       "    </tr>\n",
       "    <tr>\n",
       "      <th>36</th>\n",
       "      <td>x17</td>\n",
       "      <td>Hash value computing</td>\n",
       "      <td>512</td>\n",
       "      <td>0.000134</td>\n",
       "    </tr>\n",
       "    <tr>\n",
       "      <th>37</th>\n",
       "      <td>x17</td>\n",
       "      <td>Mining one block</td>\n",
       "      <td>512</td>\n",
       "      <td>0.870867</td>\n",
       "    </tr>\n",
       "    <tr>\n",
       "      <th>38</th>\n",
       "      <td>x17</td>\n",
       "      <td>Proof of Work</td>\n",
       "      <td>512</td>\n",
       "      <td>0.864084</td>\n",
       "    </tr>\n",
       "  </tbody>\n",
       "</table>\n",
       "</div>"
      ],
      "text/plain": [
       "                 alg                  func  bit      time\n",
       "0            blake2b  Hash value computing  256  0.000228\n",
       "1            blake2b      Mining one block  256  0.890395\n",
       "2            blake2b         Proof of Work  256  0.883545\n",
       "3            blake2s  Hash value computing  256  0.000208\n",
       "4            blake2s      Mining one block  256  0.893070\n",
       "5            blake2s         Proof of Work  256  0.886808\n",
       "6              ecdsa   Key pair generation  256  0.076300\n",
       "7              ecdsa       Signing message  256  0.104522\n",
       "8              ecdsa   Verifying signature  256  0.078622\n",
       "9             ethash  Hash value computing  256  0.000036\n",
       "10            ethash      Mining one block  256  0.883329\n",
       "11            ethash         Proof of Work  256  0.876998\n",
       "12              gost   Key pair generation  256  0.042303\n",
       "13              gost       Signing message  256  0.089711\n",
       "14              gost   Verifying signature  256  0.156463\n",
       "15         keccak256  Hash value computing  256  0.002596\n",
       "16         keccak256      Mining one block  256  0.884264\n",
       "17         keccak256         Proof of Work  256  0.874300\n",
       "18     lyra2re2_hash  Hash value computing  512  0.000052\n",
       "19     lyra2re2_hash      Mining one block  512  0.877315\n",
       "20     lyra2re2_hash         Proof of Work  512  0.870688\n",
       "21  myr-groestl_hash  Hash value computing  512  0.000032\n",
       "22  myr-groestl_hash      Mining one block  512  0.798004\n",
       "23  myr-groestl_hash         Proof of Work  512  0.791176\n",
       "24            scrypt  Hash value computing  256  0.586257\n",
       "25            scrypt      Mining one block  256  1.297297\n",
       "26            scrypt         Proof of Work  256  0.707053\n",
       "27            sha256  Hash value computing  256  0.000025\n",
       "28            sha256      Mining one block  256  0.891855\n",
       "29            sha256         Proof of Work  256  0.878212\n",
       "30            sha512  Hash value computing  256  0.000029\n",
       "31            sha512      Mining one block  256  0.710103\n",
       "32            sha512         Proof of Work  256  0.703776\n",
       "33               x11  Hash value computing  512  0.000110\n",
       "34               x11      Mining one block  512  0.851738\n",
       "35               x11         Proof of Work  512  0.845676\n",
       "36               x17  Hash value computing  512  0.000134\n",
       "37               x17      Mining one block  512  0.870867\n",
       "38               x17         Proof of Work  512  0.864084"
      ]
     },
     "execution_count": 114,
     "metadata": {},
     "output_type": "execute_result"
    }
   ],
   "source": [
    "df"
   ]
  },
  {
   "cell_type": "code",
   "execution_count": null,
   "metadata": {},
   "outputs": [],
   "source": []
  }
 ],
 "metadata": {
  "kernelspec": {
   "display_name": "Python 3",
   "language": "python",
   "name": "python3"
  },
  "language_info": {
   "codemirror_mode": {
    "name": "ipython",
    "version": 3
   },
   "file_extension": ".py",
   "mimetype": "text/x-python",
   "name": "python",
   "nbconvert_exporter": "python",
   "pygments_lexer": "ipython3",
   "version": "3.6.5"
  }
 },
 "nbformat": 4,
 "nbformat_minor": 2
}
