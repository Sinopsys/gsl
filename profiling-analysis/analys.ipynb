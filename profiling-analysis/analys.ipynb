{
 "cells": [
  {
   "cell_type": "code",
   "execution_count": 28,
   "metadata": {},
   "outputs": [],
   "source": [
    "import numpy as np\n",
    "import pandas as pd\n",
    "import matplotlib.pyplot as plt"
   ]
  },
  {
   "cell_type": "code",
   "execution_count": 29,
   "metadata": {},
   "outputs": [],
   "source": [
    "df = pd.read_csv('./profiling_results.csv', sep=';')"
   ]
  },
  {
   "cell_type": "code",
   "execution_count": 30,
   "metadata": {},
   "outputs": [
    {
     "data": {
      "text/html": [
       "<div>\n",
       "<style scoped>\n",
       "    .dataframe tbody tr th:only-of-type {\n",
       "        vertical-align: middle;\n",
       "    }\n",
       "\n",
       "    .dataframe tbody tr th {\n",
       "        vertical-align: top;\n",
       "    }\n",
       "\n",
       "    .dataframe thead th {\n",
       "        text-align: right;\n",
       "    }\n",
       "</style>\n",
       "<table border=\"1\" class=\"dataframe\">\n",
       "  <thead>\n",
       "    <tr style=\"text-align: right;\">\n",
       "      <th></th>\n",
       "      <th>alg</th>\n",
       "      <th>func</th>\n",
       "      <th>bit</th>\n",
       "      <th>time</th>\n",
       "    </tr>\n",
       "  </thead>\n",
       "  <tbody>\n",
       "    <tr>\n",
       "      <th>0</th>\n",
       "      <td>sha256</td>\n",
       "      <td>Hash value computing</td>\n",
       "      <td>256</td>\n",
       "      <td>0.000031</td>\n",
       "    </tr>\n",
       "    <tr>\n",
       "      <th>1</th>\n",
       "      <td>sha256</td>\n",
       "      <td>Hash value computing</td>\n",
       "      <td>256</td>\n",
       "      <td>0.000019</td>\n",
       "    </tr>\n",
       "    <tr>\n",
       "      <th>2</th>\n",
       "      <td>sha256</td>\n",
       "      <td>Hash value computing</td>\n",
       "      <td>256</td>\n",
       "      <td>0.000033</td>\n",
       "    </tr>\n",
       "    <tr>\n",
       "      <th>3</th>\n",
       "      <td>sha256</td>\n",
       "      <td>Hash value computing</td>\n",
       "      <td>256</td>\n",
       "      <td>0.000023</td>\n",
       "    </tr>\n",
       "    <tr>\n",
       "      <th>4</th>\n",
       "      <td>ecdsa</td>\n",
       "      <td>Key pair generation</td>\n",
       "      <td>256</td>\n",
       "      <td>0.076861</td>\n",
       "    </tr>\n",
       "  </tbody>\n",
       "</table>\n",
       "</div>"
      ],
      "text/plain": [
       "      alg                  func  bit      time\n",
       "0  sha256  Hash value computing  256  0.000031\n",
       "1  sha256  Hash value computing  256  0.000019\n",
       "2  sha256  Hash value computing  256  0.000033\n",
       "3  sha256  Hash value computing  256  0.000023\n",
       "4   ecdsa   Key pair generation  256  0.076861"
      ]
     },
     "execution_count": 30,
     "metadata": {},
     "output_type": "execute_result"
    }
   ],
   "source": [
    "df.head()"
   ]
  },
  {
   "cell_type": "code",
   "execution_count": 31,
   "metadata": {},
   "outputs": [
    {
     "data": {
      "text/plain": [
       "(1689, 4)"
      ]
     },
     "execution_count": 31,
     "metadata": {},
     "output_type": "execute_result"
    }
   ],
   "source": [
    "df.shape"
   ]
  },
  {
   "cell_type": "markdown",
   "metadata": {},
   "source": [
    "Сделай пожалуйста тут чтобы оставался один инстанс с усреднённым time по уникальности в колонках ['alg', 'func', 'bit']"
   ]
  },
  {
   "cell_type": "code",
   "execution_count": 32,
   "metadata": {},
   "outputs": [],
   "source": [
    "df.drop_duplicates(subset=['alg', 'func', 'bit'], inplace=True)"
   ]
  },
  {
   "cell_type": "code",
   "execution_count": 33,
   "metadata": {},
   "outputs": [
    {
     "data": {
      "text/plain": [
       "(39, 4)"
      ]
     },
     "execution_count": 33,
     "metadata": {},
     "output_type": "execute_result"
    }
   ],
   "source": [
    "df.shape"
   ]
  },
  {
   "cell_type": "code",
   "execution_count": 35,
   "metadata": {},
   "outputs": [
    {
     "data": {
      "text/html": [
       "<div>\n",
       "<style scoped>\n",
       "    .dataframe tbody tr th:only-of-type {\n",
       "        vertical-align: middle;\n",
       "    }\n",
       "\n",
       "    .dataframe tbody tr th {\n",
       "        vertical-align: top;\n",
       "    }\n",
       "\n",
       "    .dataframe thead th {\n",
       "        text-align: right;\n",
       "    }\n",
       "</style>\n",
       "<table border=\"1\" class=\"dataframe\">\n",
       "  <thead>\n",
       "    <tr style=\"text-align: right;\">\n",
       "      <th></th>\n",
       "      <th>alg</th>\n",
       "      <th>func</th>\n",
       "      <th>bit</th>\n",
       "      <th>time</th>\n",
       "    </tr>\n",
       "  </thead>\n",
       "  <tbody>\n",
       "    <tr>\n",
       "      <th>0</th>\n",
       "      <td>sha256</td>\n",
       "      <td>Hash value computing</td>\n",
       "      <td>256</td>\n",
       "      <td>0.000031</td>\n",
       "    </tr>\n",
       "    <tr>\n",
       "      <th>1</th>\n",
       "      <td>ecdsa</td>\n",
       "      <td>Key pair generation</td>\n",
       "      <td>256</td>\n",
       "      <td>0.076861</td>\n",
       "    </tr>\n",
       "    <tr>\n",
       "      <th>2</th>\n",
       "      <td>ecdsa</td>\n",
       "      <td>Signing message</td>\n",
       "      <td>256</td>\n",
       "      <td>0.102613</td>\n",
       "    </tr>\n",
       "    <tr>\n",
       "      <th>3</th>\n",
       "      <td>ecdsa</td>\n",
       "      <td>Verifying signature</td>\n",
       "      <td>256</td>\n",
       "      <td>0.083898</td>\n",
       "    </tr>\n",
       "    <tr>\n",
       "      <th>4</th>\n",
       "      <td>sha256</td>\n",
       "      <td>Proof of Work</td>\n",
       "      <td>256</td>\n",
       "      <td>435.969172</td>\n",
       "    </tr>\n",
       "  </tbody>\n",
       "</table>\n",
       "</div>"
      ],
      "text/plain": [
       "      alg                  func  bit        time\n",
       "0  sha256  Hash value computing  256    0.000031\n",
       "1   ecdsa   Key pair generation  256    0.076861\n",
       "2   ecdsa       Signing message  256    0.102613\n",
       "3   ecdsa   Verifying signature  256    0.083898\n",
       "4  sha256         Proof of Work  256  435.969172"
      ]
     },
     "execution_count": 35,
     "metadata": {},
     "output_type": "execute_result"
    }
   ],
   "source": [
    "df = df.reset_index()\n",
    "df.drop('index', axis=1, inplace=True)\n",
    "df.head()"
   ]
  },
  {
   "cell_type": "code",
   "execution_count": 37,
   "metadata": {},
   "outputs": [
    {
     "data": {
      "text/html": [
       "<div>\n",
       "<style scoped>\n",
       "    .dataframe tbody tr th:only-of-type {\n",
       "        vertical-align: middle;\n",
       "    }\n",
       "\n",
       "    .dataframe tbody tr th {\n",
       "        vertical-align: top;\n",
       "    }\n",
       "\n",
       "    .dataframe thead th {\n",
       "        text-align: right;\n",
       "    }\n",
       "</style>\n",
       "<table border=\"1\" class=\"dataframe\">\n",
       "  <thead>\n",
       "    <tr style=\"text-align: right;\">\n",
       "      <th></th>\n",
       "      <th>alg</th>\n",
       "      <th>func</th>\n",
       "      <th>bit</th>\n",
       "      <th>time</th>\n",
       "    </tr>\n",
       "  </thead>\n",
       "  <tbody>\n",
       "    <tr>\n",
       "      <th>4</th>\n",
       "      <td>sha256</td>\n",
       "      <td>Proof of Work</td>\n",
       "      <td>256</td>\n",
       "      <td>435.969172</td>\n",
       "    </tr>\n",
       "    <tr>\n",
       "      <th>5</th>\n",
       "      <td>sha256</td>\n",
       "      <td>Mining one block</td>\n",
       "      <td>256</td>\n",
       "      <td>435.975189</td>\n",
       "    </tr>\n",
       "  </tbody>\n",
       "</table>\n",
       "</div>"
      ],
      "text/plain": [
       "      alg              func  bit        time\n",
       "4  sha256     Proof of Work  256  435.969172\n",
       "5  sha256  Mining one block  256  435.975189"
      ]
     },
     "execution_count": 37,
     "metadata": {},
     "output_type": "execute_result"
    }
   ],
   "source": [
    "df[df['time'] > 1] ## мб дропнуть."
   ]
  },
  {
   "cell_type": "code",
   "execution_count": 38,
   "metadata": {},
   "outputs": [
    {
     "data": {
      "text/plain": [
       "array([[<matplotlib.axes._subplots.AxesSubplot object at 0x7f0fdd069f98>,\n",
       "        <matplotlib.axes._subplots.AxesSubplot object at 0x7f0fdd262160>]],\n",
       "      dtype=object)"
      ]
     },
     "execution_count": 38,
     "metadata": {},
     "output_type": "execute_result"
    },
    {
     "data": {
      "image/png": "[encoded data removed]",
      "text/plain": [
       "<Figure size 432x288 with 2 Axes>"
      ]
     },
     "metadata": {
      "needs_background": "light"
     },
     "output_type": "display_data"
    }
   ],
   "source": [
    "df.hist()"
   ]
  },
  {
   "cell_type": "markdown",
   "metadata": {},
   "source": [
    "#### В общем хочется норм графики\n",
    "\n",
    "* Для алгоритмов хэширования (это всё что не ecdsa и не gost) посмотреть их время работы в распределении по столбцу func, т.е. для чего они использовались. Что делать со столбцом bit: например [alg=keccak, bit=256] и [alg=keccak, bit=512] считать разными алгоритмами\n",
    "* Для алгоримтов ЦП (это всё что ecdsa или gost) посмотреть то же самое. \n",
    "* Графики можно делать горизонтальными, чтобы длинные подписи умещались примеры кода для горизонтальных графиков: \n",
    "\n",
    "https://github.com/Sinopsys/Data-Mining-Personal-Project-Hearthstone-Cards/blob/master/Hearthstone%20cards.ipynb\n",
    "\n",
    "https://github.com/Sinopsys/IDAHSE-2017/blob/master/Assignment_1/Assignment_1/Assignment_1_Kupriyanov_IAD_1.ipynb\n",
    "* Пример как в plt.subplot разложить много графиков в пару строк циклом:\n",
    "\n",
    "https://github.com/Sinopsys/IDAHSE-2017/blob/master/Assignment_4/A4_Kupriyanov.ipynb"
   ]
  },
  {
   "cell_type": "code",
   "execution_count": null,
   "metadata": {},
   "outputs": [],
   "source": []
  }
 ],
 "metadata": {
  "kernelspec": {
   "display_name": "Python 3",
   "language": "python",
   "name": "python3"
  },
  "language_info": {
   "codemirror_mode": {
    "name": "ipython",
    "version": 3
   },
   "file_extension": ".py",
   "mimetype": "text/x-python",
   "name": "python",
   "nbconvert_exporter": "python",
   "pygments_lexer": "ipython3",
   "version": "3.6.5"
  }
 },
 "nbformat": 4,
 "nbformat_minor": 2
}
